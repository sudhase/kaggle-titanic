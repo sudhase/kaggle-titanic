{
  "nbformat": 4,
  "nbformat_minor": 0,
  "metadata": {
    "colab": {
      "provenance": [],
      "authorship_tag": "ABX9TyM2QItAp7Ba+pxLvMvpzkBM",
      "include_colab_link": true
    },
    "kernelspec": {
      "name": "python3",
      "display_name": "Python 3"
    },
    "language_info": {
      "name": "python"
    }
  },
  "cells": [
    {
      "cell_type": "markdown",
      "metadata": {
        "id": "view-in-github",
        "colab_type": "text"
      },
      "source": [
        "<a href=\"https://colab.research.google.com/github/sudhase/kaggle-titanic/blob/master/3dGAN.ipynb\" target=\"_parent\"><img src=\"https://colab.research.google.com/assets/colab-badge.svg\" alt=\"Open In Colab\"/></a>"
      ]
    },
    {
      "cell_type": "code",
      "execution_count": 1,
      "metadata": {
        "id": "HEdFRNG3tIDO"
      },
      "outputs": [],
      "source": [
        "import scipy.io as io"
      ]
    },
    {
      "cell_type": "code",
      "source": [
        "import glob\n",
        "import os\n",
        "import time\n"
      ],
      "metadata": {
        "id": "ejEJWfUKtaXV"
      },
      "execution_count": 3,
      "outputs": []
    },
    {
      "cell_type": "code",
      "source": [
        "import numpy as np\n",
        "import scipy.io as io\n",
        "import scipy.ndimage as nd\n",
        "import tensorflow as tf\n",
        "from keras import Sequential"
      ],
      "metadata": {
        "id": "m8TNmFmSvhLx"
      },
      "execution_count": 4,
      "outputs": []
    },
    {
      "cell_type": "code",
      "source": [
        "from keras.callbacks import TensorBoard\n"
      ],
      "metadata": {
        "id": "z7rRo4vkvpRd"
      },
      "execution_count": 6,
      "outputs": []
    },
    {
      "cell_type": "code",
      "source": [
        "from keras.layers import Input"
      ],
      "metadata": {
        "id": "1sXZf3Dav1Wl"
      },
      "execution_count": 7,
      "outputs": []
    },
    {
      "cell_type": "code",
      "source": [
        "from keras.layers import LeakyReLU\n",
        "cnn_model.add(LeakyReLU(alpha=0.1))\n"
      ],
      "metadata": {
        "colab": {
          "base_uri": "https://localhost:8080/",
          "height": 193
        },
        "id": "-cZ5DfVRv9gG",
        "outputId": "9fa19fea-5de5-4e1b-82ff-4593a3db6c58"
      },
      "execution_count": 11,
      "outputs": [
        {
          "output_type": "error",
          "ename": "NameError",
          "evalue": "ignored",
          "traceback": [
            "\u001b[0;31m---------------------------------------------------------------------------\u001b[0m",
            "\u001b[0;31mNameError\u001b[0m                                 Traceback (most recent call last)",
            "\u001b[0;32m<ipython-input-11-f41b239afbbc>\u001b[0m in \u001b[0;36m<cell line: 2>\u001b[0;34m()\u001b[0m\n\u001b[1;32m      1\u001b[0m \u001b[0;32mfrom\u001b[0m \u001b[0mkeras\u001b[0m\u001b[0;34m.\u001b[0m\u001b[0mlayers\u001b[0m \u001b[0;32mimport\u001b[0m \u001b[0mLeakyReLU\u001b[0m\u001b[0;34m\u001b[0m\u001b[0;34m\u001b[0m\u001b[0m\n\u001b[0;32m----> 2\u001b[0;31m \u001b[0mcnn_model\u001b[0m\u001b[0;34m.\u001b[0m\u001b[0madd\u001b[0m\u001b[0;34m(\u001b[0m\u001b[0mLeakyReLU\u001b[0m\u001b[0;34m(\u001b[0m\u001b[0malpha\u001b[0m\u001b[0;34m=\u001b[0m\u001b[0;36m0.1\u001b[0m\u001b[0;34m)\u001b[0m\u001b[0;34m)\u001b[0m\u001b[0;34m\u001b[0m\u001b[0;34m\u001b[0m\u001b[0m\n\u001b[0m",
            "\u001b[0;31mNameError\u001b[0m: name 'cnn_model' is not defined"
          ]
        }
      ]
    },
    {
      "cell_type": "code",
      "source": [
        "from tensorflow.keras.layers import LeakyReLU"
      ],
      "metadata": {
        "id": "lqLAbUpax31O"
      },
      "execution_count": 12,
      "outputs": []
    },
    {
      "cell_type": "code",
      "source": [
        "from tensorflow.keras.layers import Conv3D"
      ],
      "metadata": {
        "id": "JAFudK4Ex6cG"
      },
      "execution_count": 15,
      "outputs": []
    },
    {
      "cell_type": "code",
      "source": [
        "from tensorflow.keras.layers import Conv2DTranspose"
      ],
      "metadata": {
        "id": "JwpcrzHxzSKj"
      },
      "execution_count": 19,
      "outputs": []
    },
    {
      "cell_type": "code",
      "source": [
        "from keras.layers.core import Activation"
      ],
      "metadata": {
        "id": "cTf8j4De0aZ1"
      },
      "execution_count": 20,
      "outputs": []
    },
    {
      "cell_type": "code",
      "source": [
        "from tensorflow.keras.layers import BatchNormalization"
      ],
      "metadata": {
        "id": "rCtHGgSD0hDE"
      },
      "execution_count": 22,
      "outputs": []
    },
    {
      "cell_type": "code",
      "source": [
        "from keras.models import Model"
      ],
      "metadata": {
        "id": "g4GAIuoP1Bjw"
      },
      "execution_count": 23,
      "outputs": []
    },
    {
      "cell_type": "code",
      "source": [
        "from keras.optimizers import Adam"
      ],
      "metadata": {
        "id": "9WfOtv3V1FmA"
      },
      "execution_count": 24,
      "outputs": []
    },
    {
      "cell_type": "code",
      "source": [
        "from mpl_toolkits.mplot3d import Axes3D"
      ],
      "metadata": {
        "id": "yZSq2Ip11JpL"
      },
      "execution_count": 25,
      "outputs": []
    },
    {
      "cell_type": "code",
      "source": [
        "import matplotlib"
      ],
      "metadata": {
        "id": "C0cULQDE1NNt"
      },
      "execution_count": 26,
      "outputs": []
    },
    {
      "cell_type": "code",
      "source": [
        "import matplotlib.pyplot as plt"
      ],
      "metadata": {
        "id": "XGzTY1Qu1Q5w"
      },
      "execution_count": 27,
      "outputs": []
    },
    {
      "cell_type": "code",
      "source": [
        "def build_generator():\n",
        "    \"\"\"\n",
        "    Create a Generator Model with hyperparameters values defined as follows\n",
        "    \"\"\"\n",
        "    z_size = 200\n",
        "    gen_filters = [512, 256, 128, 64, 1]\n",
        "    gen_kernel_sizes = [4, 4, 4, 4, 4]\n",
        "    gen_strides = [1, 2, 2, 2, 2]\n",
        "    gen_input_shape = (1, 1, 1, z_size)\n",
        "    gen_activations = ['relu', 'relu', 'relu', 'relu', 'sigmoid']\n",
        "    gen_convolutional_blocks = 5\n",
        "\n",
        "    input_layer = Input(shape=gen_input_shape)\n",
        "\n",
        "    # First 3D transpose convolution(or 3D deconvolution) block\n",
        "    a = Deconv3D(filters=gen_filters[0],\n",
        "                 kernel_size=gen_kernel_sizes[0],\n",
        "                 strides=gen_strides[0])(input_layer)\n",
        "    a = BatchNormalization()(a, training=True)\n",
        "    a = Activation(activation='relu')(a)\n",
        "\n",
        "    # Next 4 3D transpose convolution(or 3D deconvolution) blocks\n",
        "    for i in range(gen_convolutional_blocks - 1):\n",
        "        a = Deconv3D(filters=gen_filters[i + 1],\n",
        "                     kernel_size=gen_kernel_sizes[i + 1],\n",
        "                     strides=gen_strides[i + 1], padding='same')(a)\n",
        "        a = BatchNormalization()(a, training=True)\n",
        "        a = Activation(activation=gen_activations[i + 1])(a)\n",
        "\n",
        "    gen_model = Model(inputs=[input_layer], outputs=[a])\n",
        "    return gen_model\n"
      ],
      "metadata": {
        "id": "9NxhteWn1UTv"
      },
      "execution_count": 28,
      "outputs": []
    },
    {
      "cell_type": "code",
      "source": [
        "def build_discriminator():\n",
        "    \"\"\"\n",
        "    Create a Discriminator Model using hyperparameters values defined as follows\n",
        "    \"\"\"\n",
        "\n",
        "    dis_input_shape = (64, 64, 64, 1)\n",
        "    dis_filters = [64, 128, 256, 512, 1]\n",
        "    dis_kernel_sizes = [4, 4, 4, 4, 4]\n",
        "    dis_strides = [2, 2, 2, 2, 1]\n",
        "    dis_paddings = ['same', 'same', 'same', 'same', 'valid']\n",
        "    dis_alphas = [0.2, 0.2, 0.2, 0.2, 0.2]\n",
        "    dis_activations = ['leaky_relu', 'leaky_relu', 'leaky_relu',\n",
        "                       'leaky_relu', 'sigmoid']\n",
        "    dis_convolutional_blocks = 5\n",
        "\n",
        "    dis_input_layer = Input(shape=dis_input_shape)\n",
        "\n",
        "    # The first 3D Convolutional block\n",
        "    a = Conv3D(filters=dis_filters[0],\n",
        "               kernel_size=dis_kernel_sizes[0],\n",
        "               strides=dis_strides[0],\n",
        "               padding=dis_paddings[0])(dis_input_layer)\n",
        "    # a = BatchNormalization()(a, training=True)\n",
        "    a = LeakyReLU(dis_alphas[0])(a)\n",
        "\n",
        "    # Next 4 3D Convolutional Blocks\n",
        "    for i in range(dis_convolutional_blocks - 1):\n",
        "        a = Conv3D(filters=dis_filters[i + 1],\n",
        "                   kernel_size=dis_kernel_sizes[i + 1],\n",
        "                   strides=dis_strides[i + 1],\n",
        "                   padding=dis_paddings[i + 1])(a)\n",
        "        a = BatchNormalization()(a, training=True)\n",
        "        if dis_activations[i + 1] == 'leaky_relu':\n",
        "            a = LeakyReLU(dis_alphas[i + 1])(a)\n",
        "        elif dis_activations[i + 1] == 'sigmoid':\n",
        "            a = Activation(activation='sigmoid')(a)\n",
        "\n",
        "    dis_model = Model(inputs=[dis_input_layer], outputs=[a])\n",
        "    return dis_model\n"
      ],
      "metadata": {
        "id": "NI9z1Qlm1bGB"
      },
      "execution_count": 29,
      "outputs": []
    },
    {
      "cell_type": "code",
      "source": [
        "def write_log(callback, name, value, batch_no):\n",
        "    summary = tf.Summary()\n",
        "    summary_value = summary.value.add()\n",
        "    summary_value.simple_value = value\n",
        "    summary_value.tag = name\n",
        "    callback.writer.add_summary(summary, batch_no)\n",
        "    callback.writer.flush()"
      ],
      "metadata": {
        "id": "sayRNjzU1mCY"
      },
      "execution_count": 30,
      "outputs": []
    },
    {
      "cell_type": "code",
      "source": [],
      "metadata": {
        "id": "YZ7h93tV1n9t"
      },
      "execution_count": null,
      "outputs": []
    }
  ]
}