{
  "nbformat": 4,
  "nbformat_minor": 0,
  "metadata": {
    "colab": {
      "provenance": [],
      "authorship_tag": "ABX9TyM1UXZzfRoVSp7hYte3OAig",
      "include_colab_link": true
    },
    "kernelspec": {
      "name": "python3",
      "display_name": "Python 3"
    },
    "language_info": {
      "name": "python"
    }
  },
  "cells": [
    {
      "cell_type": "markdown",
      "metadata": {
        "id": "view-in-github",
        "colab_type": "text"
      },
      "source": [
        "<a href=\"https://colab.research.google.com/github/sudhase/kaggle-titanic/blob/master/3dGAN.ipynb\" target=\"_parent\"><img src=\"https://colab.research.google.com/assets/colab-badge.svg\" alt=\"Open In Colab\"/></a>"
      ]
    },
    {
      "cell_type": "code",
      "execution_count": 1,
      "metadata": {
        "id": "HEdFRNG3tIDO"
      },
      "outputs": [],
      "source": [
        "import scipy.io as io"
      ]
    },
    {
      "cell_type": "code",
      "source": [
        "import glob\n",
        "import os\n",
        "import time\n"
      ],
      "metadata": {
        "id": "ejEJWfUKtaXV"
      },
      "execution_count": 3,
      "outputs": []
    },
    {
      "cell_type": "code",
      "source": [
        "import numpy as np\n",
        "import scipy.io as io\n",
        "import scipy.ndimage as nd\n",
        "import tensorflow as tf\n",
        "from keras import Sequential"
      ],
      "metadata": {
        "id": "m8TNmFmSvhLx"
      },
      "execution_count": 21,
      "outputs": []
    },
    {
      "cell_type": "code",
      "source": [
        "from keras.callbacks import TensorBoard\n"
      ],
      "metadata": {
        "id": "z7rRo4vkvpRd"
      },
      "execution_count": 22,
      "outputs": []
    },
    {
      "cell_type": "code",
      "source": [
        "from keras.layers import Input"
      ],
      "metadata": {
        "id": "1sXZf3Dav1Wl"
      },
      "execution_count": 23,
      "outputs": []
    },
    {
      "cell_type": "code",
      "source": [
        "from tensorflow.keras.layers import LeakyReLU"
      ],
      "metadata": {
        "id": "lqLAbUpax31O"
      },
      "execution_count": 25,
      "outputs": []
    },
    {
      "cell_type": "code",
      "source": [
        "from tensorflow.keras.layers import Conv3D"
      ],
      "metadata": {
        "id": "JAFudK4Ex6cG"
      },
      "execution_count": 26,
      "outputs": []
    },
    {
      "cell_type": "code",
      "source": [
        "from tensorflow.keras.layers import Conv2DTranspose"
      ],
      "metadata": {
        "id": "JwpcrzHxzSKj"
      },
      "execution_count": 27,
      "outputs": []
    },
    {
      "cell_type": "code",
      "source": [
        "from keras.layers.core import Activation"
      ],
      "metadata": {
        "id": "cTf8j4De0aZ1"
      },
      "execution_count": 28,
      "outputs": []
    },
    {
      "cell_type": "code",
      "source": [
        "from tensorflow.keras.layers import BatchNormalization"
      ],
      "metadata": {
        "id": "rCtHGgSD0hDE"
      },
      "execution_count": 29,
      "outputs": []
    },
    {
      "cell_type": "code",
      "source": [
        "from keras.models import Model"
      ],
      "metadata": {
        "id": "g4GAIuoP1Bjw"
      },
      "execution_count": 30,
      "outputs": []
    },
    {
      "cell_type": "code",
      "source": [
        "from keras.optimizers import Adam"
      ],
      "metadata": {
        "id": "9WfOtv3V1FmA"
      },
      "execution_count": 31,
      "outputs": []
    },
    {
      "cell_type": "code",
      "source": [
        "from mpl_toolkits.mplot3d import Axes3D"
      ],
      "metadata": {
        "id": "yZSq2Ip11JpL"
      },
      "execution_count": 32,
      "outputs": []
    },
    {
      "cell_type": "code",
      "source": [
        "import matplotlib"
      ],
      "metadata": {
        "id": "C0cULQDE1NNt"
      },
      "execution_count": 33,
      "outputs": []
    },
    {
      "cell_type": "code",
      "source": [
        "import matplotlib.pyplot as plt"
      ],
      "metadata": {
        "id": "XGzTY1Qu1Q5w"
      },
      "execution_count": 34,
      "outputs": []
    },
    {
      "cell_type": "code",
      "source": [
        "def build_generator():\n",
        "    \"\"\"\n",
        "    Create a Generator Model with hyperparameters values defined as follows\n",
        "    \"\"\"\n",
        "    z_size = 200\n",
        "    gen_filters = [512, 256, 128, 64, 1]\n",
        "    gen_kernel_sizes = [4, 4, 4, 4, 4]\n",
        "    gen_strides = [1, 2, 2, 2, 2]\n",
        "    gen_input_shape = (1, 1, 1, z_size)\n",
        "    gen_activations = ['relu', 'relu', 'relu', 'relu', 'sigmoid']\n",
        "    gen_convolutional_blocks = 5\n",
        "\n",
        "   # input_layer = Input(shape=gen_input_shape)\n",
        "    dis_input_layer = tf.random.normal(dis_input_shape)\n",
        "\n",
        "    a = tf.keras.layers.DeConv3D(filters=gen_filters[0],kernel_size=gen_kernel_sizes[0],\n",
        "                               strides=gen_strides[0])(dis_input_layer)\n",
        "    # First 3D transpose convolution(or 3D deconvolution) block\n",
        "   # a = Deconv3D(filters=gen_filters[0],\n",
        "    #             kernel_size=gen_kernel_sizes[0],\n",
        "     #            strides=gen_strides[0])(input_layer)\n",
        "    a = BatchNormalization()(a, training=True)\n",
        "    a = Activation(activation='relu')(a)\n",
        "\n",
        "    # Next 4 3D transpose convolution(or 3D deconvolution) blocks\n",
        "    for i in range(gen_convolutional_blocks - 1):\n",
        "        a = tf.keras.layers.DeConv3D(filters=gen_filters[i+1],kernel_size=gen_kernel_sizes[i+1],\n",
        "                               strides=gen_strides[i+1], padding='same')(a)\n",
        "       # a = Deconv3D(filters=gen_filters[i + 1],\n",
        "        #             kernel_size=gen_kernel_sizes[i + 1],\n",
        "         #            strides=gen_strides[i + 1], padding='same')(a)\n",
        "        a = BatchNormalization()(a, training=True)\n",
        "        a = Activation(activation=gen_activations[i + 1])(a)\n",
        "\n",
        "    gen_model = Model(inputs=[input_layer], outputs=[a])\n",
        "    return gen_model\n"
      ],
      "metadata": {
        "id": "9NxhteWn1UTv"
      },
      "execution_count": 70,
      "outputs": []
    },
    {
      "cell_type": "code",
      "source": [
        "def build_discriminator():\n",
        "    \"\"\"\n",
        "    Create a Discriminator Model using hyperparameters values defined as follows\n",
        "    \"\"\"\n",
        "\n",
        "    dis_input_shape = (32,64, 64, 64, 1)\n",
        "    dis_filters = [64, 128, 256, 512, 1]\n",
        "    dis_kernel_sizes = [4, 4, 4, 4, 4]\n",
        "    dis_strides = [2, 2, 2, 2, 1]\n",
        "    dis_paddings = ['same', 'same', 'same', 'same', 'valid']\n",
        "    dis_alphas = [0.2, 0.2, 0.2, 0.2, 0.2]\n",
        "    dis_activations = ['leaky_relu', 'leaky_relu', 'leaky_relu',\n",
        "                       'leaky_relu', 'sigmoid']\n",
        "    dis_convolutional_blocks = 5\n",
        "\n",
        "   # dis_input_layer = Input(shape=dis_input_shape)\n",
        "    dis_input_layer = tf.random.normal(dis_input_shape)\n",
        "\n",
        "    a = tf.keras.layers.Conv3D(filters=dis_filters[0],kernel_size=dis_kernel_sizes[0],\n",
        "                               strides=dis_strides[0], padding=dis_paddings[0])(dis_input_layer)\n",
        "    print(a.shape)\n",
        "    # The first 3D Convolutional block\n",
        "  # a = Conv3D(filters=dis_filters[0],\n",
        "   #            kernel_size=dis_kernel_sizes[0],\n",
        "    #           strides=dis_strides[0],\n",
        "     #          padding=dis_paddings[0])(dis_input_layer)\n",
        "    a = BatchNormalization()(a, training=True)\n",
        "    a = LeakyReLU(dis_alphas[0])(a)\n",
        "\n",
        "    # Next 4 3D Convolutional Blocks\n",
        "    for i in range(dis_convolutional_blocks - 1):\n",
        "        a = tf.keras.layers.Conv3D(filters=dis_filters[i+1],kernel_size=dis_kernel_sizes[i+1],\n",
        "                                   strides=dis_strides[i+1], padding=dis_paddings[i+1])(dis_input_layer)\n",
        "      #  a = Conv3D(filters=dis_filters[i + 1],\n",
        "       #            kernel_size=dis_kernel_sizes[i + 1],\n",
        "        #           strides=dis_strides[i + 1],\n",
        "         #          padding=dis_paddings[i + 1])(a)\n",
        "        a = BatchNormalization()(a, training=True)\n",
        "        if dis_activations[i + 1] == 'leaky_relu':\n",
        "            a = LeakyReLU(dis_alphas[i + 1])(a)\n",
        "        elif dis_activations[i + 1] == 'sigmoid':\n",
        "            a = Activation(activation='sigmoid')(a)\n",
        "\n",
        "    dis_model = Model(inputs=[dis_input_layer], outputs=[a])\n",
        "    return dis_model\n"
      ],
      "metadata": {
        "id": "NI9z1Qlm1bGB"
      },
      "execution_count": 83,
      "outputs": []
    },
    {
      "cell_type": "code",
      "source": [
        "def write_log(callback, name, value, batch_no):\n",
        "    summary = tf.Summary()\n",
        "    summary_value = summary.value.add()\n",
        "    summary_value.simple_value = value\n",
        "    summary_value.tag = name\n",
        "    callback.writer.add_summary(summary, batch_no)\n",
        "    callback.writer.flush()"
      ],
      "metadata": {
        "id": "sayRNjzU1mCY"
      },
      "execution_count": 84,
      "outputs": []
    },
    {
      "cell_type": "code",
      "source": [
        "def get3DImages(data_dir):\n",
        "    all_files = np.random.choice(glob.glob(data_dir), size=10)\n",
        "    # all_files = glob.glob(data_dir)\n",
        "    all_volumes = np.asarray([getVoxelsFromMat(f) for f in all_files], dtype=np.bool)\n",
        "    return all_volumes"
      ],
      "metadata": {
        "id": "YZ7h93tV1n9t"
      },
      "execution_count": 85,
      "outputs": []
    },
    {
      "cell_type": "code",
      "source": [
        "def getVoxelsFromMat(path, cube_len=64):\n",
        "    voxels = io.loadmat(path)['instance']\n",
        "    voxels = np.pad(voxels, (1, 1), 'constant', constant_values=(0, 0))\n",
        "    if cube_len != 32 and cube_len == 64:\n",
        "        voxels = nd.zoom(voxels, (2, 2, 2), mode='constant', order=0)\n",
        "    return voxels\n"
      ],
      "metadata": {
        "id": "2EcEGD2XHqz5"
      },
      "execution_count": 86,
      "outputs": []
    },
    {
      "cell_type": "code",
      "source": [
        "def saveFromVoxels(voxels, path):\n",
        "    z, x, y = voxels.nonzero()\n",
        "    fig = plt.figure()\n",
        "    ax = fig.add_subplot(111, projection='3d')\n",
        "    ax.scatter(x, y, -z, zdir='z', c='red')\n",
        "    plt.savefig(path)"
      ],
      "metadata": {
        "id": "MSxJwv9tHvt3"
      },
      "execution_count": 87,
      "outputs": []
    },
    {
      "cell_type": "code",
      "source": [
        "def plotAndSaveVoxel(file_path, voxel):\n",
        "    \"\"\"\n",
        "    Plot a voxel\n",
        "    \"\"\"\n",
        "    fig = plt.figure()\n",
        "    ax = fig.gca(projection='3d')\n",
        "    ax.set_aspect('equal')\n",
        "    ax.voxels(voxel, edgecolor=\"red\")\n",
        "    # plt.show()\n",
        "    plt.savefig(file_path)\n"
      ],
      "metadata": {
        "id": "qkbwrdGwHzn-"
      },
      "execution_count": 88,
      "outputs": []
    },
    {
      "cell_type": "code",
      "source": [
        "if __name__ == '__main__':\n",
        "    \"\"\"\n",
        "    Specify Hyperparameters\n",
        "    \"\"\"\n",
        "    object_name = \"chair\"\n",
        "    data_dir = \"data/3DShapeNets/volumetric_data/\" \\\n",
        "               \"{}/30/train/*.mat\".format(object_name)\n",
        "    gen_learning_rate = 0.0025\n",
        "    dis_learning_rate = 10e-5\n",
        "    beta = 0.5\n",
        "    batch_size = 1\n",
        "    z_size = 200\n",
        "    epochs = 10\n",
        "    MODE = \"train\""
      ],
      "metadata": {
        "id": "7Z-e1GATH4fL"
      },
      "execution_count": 89,
      "outputs": []
    },
    {
      "cell_type": "code",
      "source": [
        "gen_optimizer = Adam(learning_rate=gen_learning_rate, beta_1=beta)\n",
        "dis_optimizer = Adam(learning_rate=dis_learning_rate, beta_1=beta)\n",
        "\n",
        "discriminator = build_discriminator()\n",
        "discriminator.compile(loss='binary_crossentropy', optimizer=dis_optimizer)\n",
        "\n",
        "generator = build_generator()\n",
        "generator.compile(loss='binary_crossentropy', optimizer=gen_optimizer)\n",
        "\n",
        "#discriminator.trainable = False\n",
        "discriminator.trainable = True\n",
        "input_layer = Input(shape=(1, 1, 1, z_size))\n",
        "generated_volumes = generator(input_layer)\n",
        "validity = discriminator(generated_volumes)\n",
        "adversarial_model = Model(inputs=[input_layer], outputs=[validity])\n",
        "adversarial_model.compile(loss='binary_crossentropy', optimizer=gen_optimizer)\n",
        "print(\"Loading data...\")\n",
        "volumes = get3DImages(data_dir=data_dir)\n",
        "volumes = volumes[..., np.newaxis].astype(np.float)\n",
        "print(\"Data loaded...\")\n",
        "\n",
        "tensorboard = TensorBoard(log_dir=\"logs/{}\".format(time.time()))\n",
        "tensorboard.set_model(generator)\n",
        "tensorboard.set_model(discriminator)\n",
        "\n",
        "labels_real = np.reshape(np.ones((batch_size,)), (-1, 1, 1, 1, 1))\n",
        "labels_fake = np.reshape(np.zeros((batch_size,)), (-1, 1, 1, 1, 1))\n",
        "\n",
        "if MODE == 'train':\n",
        "   for epoch in range(epochs):\n",
        "       print(\"Epoch:\", epoch)\n",
        "\n",
        "       gen_losses = []\n",
        "       dis_losses = []\n",
        "\n",
        "       number_of_batches = int(volumes.shape[0] / batch_size)\n",
        "       print(\"Number of batches:\", number_of_batches)\n",
        "       for index in range(number_of_batches):\n",
        "           print(\"Batch:\", index + 1)\n",
        "\n",
        "           z_sample = np.random.normal(0, 0.33, size=[batch_size, 1, 1, 1, z_size]).astype(np.float32)\n",
        "           volumes_batch = volumes[index * batch_size:(index + 1) * batch_size, :, :, :]\n",
        "\n",
        "           # Next, generate volumes using the generate network\n",
        "           gen_volumes = generator.predict_on_batch(z_sample)\n",
        "\n"
      ],
      "metadata": {
        "colab": {
          "base_uri": "https://localhost:8080/",
          "height": 1000
        },
        "id": "UG6FEp-rH8ER",
        "outputId": "e730f456-e64a-40c6-ebe9-68d3d7d9da7a"
      },
      "execution_count": 93,
      "outputs": [
        {
          "output_type": "stream",
          "name": "stdout",
          "text": [
            "(32, 32, 32, 32, 64)\n"
          ]
        },
        {
          "output_type": "error",
          "ename": "ValueError",
          "evalue": "ignored",
          "traceback": [
            "\u001b[0;31m---------------------------------------------------------------------------\u001b[0m",
            "\u001b[0;31mValueError\u001b[0m                                Traceback (most recent call last)",
            "\u001b[0;32m<ipython-input-93-d3e4396b25d5>\u001b[0m in \u001b[0;36m<cell line: 4>\u001b[0;34m()\u001b[0m\n\u001b[1;32m      2\u001b[0m \u001b[0mdis_optimizer\u001b[0m \u001b[0;34m=\u001b[0m \u001b[0mAdam\u001b[0m\u001b[0;34m(\u001b[0m\u001b[0mlearning_rate\u001b[0m\u001b[0;34m=\u001b[0m\u001b[0mdis_learning_rate\u001b[0m\u001b[0;34m,\u001b[0m \u001b[0mbeta_1\u001b[0m\u001b[0;34m=\u001b[0m\u001b[0mbeta\u001b[0m\u001b[0;34m)\u001b[0m\u001b[0;34m\u001b[0m\u001b[0;34m\u001b[0m\u001b[0m\n\u001b[1;32m      3\u001b[0m \u001b[0;34m\u001b[0m\u001b[0m\n\u001b[0;32m----> 4\u001b[0;31m \u001b[0mdiscriminator\u001b[0m \u001b[0;34m=\u001b[0m \u001b[0mbuild_discriminator\u001b[0m\u001b[0;34m(\u001b[0m\u001b[0;34m)\u001b[0m\u001b[0;34m\u001b[0m\u001b[0;34m\u001b[0m\u001b[0m\n\u001b[0m\u001b[1;32m      5\u001b[0m \u001b[0mdiscriminator\u001b[0m\u001b[0;34m.\u001b[0m\u001b[0mcompile\u001b[0m\u001b[0;34m(\u001b[0m\u001b[0mloss\u001b[0m\u001b[0;34m=\u001b[0m\u001b[0;34m'binary_crossentropy'\u001b[0m\u001b[0;34m,\u001b[0m \u001b[0moptimizer\u001b[0m\u001b[0;34m=\u001b[0m\u001b[0mdis_optimizer\u001b[0m\u001b[0;34m)\u001b[0m\u001b[0;34m\u001b[0m\u001b[0;34m\u001b[0m\u001b[0m\n\u001b[1;32m      6\u001b[0m \u001b[0;34m\u001b[0m\u001b[0m\n",
            "\u001b[0;32m<ipython-input-83-b0ebe3b510a2>\u001b[0m in \u001b[0;36mbuild_discriminator\u001b[0;34m()\u001b[0m\n\u001b[1;32m     42\u001b[0m             \u001b[0ma\u001b[0m \u001b[0;34m=\u001b[0m \u001b[0mActivation\u001b[0m\u001b[0;34m(\u001b[0m\u001b[0mactivation\u001b[0m\u001b[0;34m=\u001b[0m\u001b[0;34m'sigmoid'\u001b[0m\u001b[0;34m)\u001b[0m\u001b[0;34m(\u001b[0m\u001b[0ma\u001b[0m\u001b[0;34m)\u001b[0m\u001b[0;34m\u001b[0m\u001b[0;34m\u001b[0m\u001b[0m\n\u001b[1;32m     43\u001b[0m \u001b[0;34m\u001b[0m\u001b[0m\n\u001b[0;32m---> 44\u001b[0;31m     \u001b[0mdis_model\u001b[0m \u001b[0;34m=\u001b[0m \u001b[0mModel\u001b[0m\u001b[0;34m(\u001b[0m\u001b[0minputs\u001b[0m\u001b[0;34m=\u001b[0m\u001b[0;34m[\u001b[0m\u001b[0mdis_input_layer\u001b[0m\u001b[0;34m]\u001b[0m\u001b[0;34m,\u001b[0m \u001b[0moutputs\u001b[0m\u001b[0;34m=\u001b[0m\u001b[0;34m[\u001b[0m\u001b[0ma\u001b[0m\u001b[0;34m]\u001b[0m\u001b[0;34m)\u001b[0m\u001b[0;34m\u001b[0m\u001b[0;34m\u001b[0m\u001b[0m\n\u001b[0m\u001b[1;32m     45\u001b[0m     \u001b[0;32mreturn\u001b[0m \u001b[0mdis_model\u001b[0m\u001b[0;34m\u001b[0m\u001b[0;34m\u001b[0m\u001b[0m\n",
            "\u001b[0;32m/usr/local/lib/python3.10/dist-packages/tensorflow/python/trackable/base.py\u001b[0m in \u001b[0;36m_method_wrapper\u001b[0;34m(self, *args, **kwargs)\u001b[0m\n\u001b[1;32m    203\u001b[0m     \u001b[0mself\u001b[0m\u001b[0;34m.\u001b[0m\u001b[0m_self_setattr_tracking\u001b[0m \u001b[0;34m=\u001b[0m \u001b[0;32mFalse\u001b[0m  \u001b[0;31m# pylint: disable=protected-access\u001b[0m\u001b[0;34m\u001b[0m\u001b[0;34m\u001b[0m\u001b[0m\n\u001b[1;32m    204\u001b[0m     \u001b[0;32mtry\u001b[0m\u001b[0;34m:\u001b[0m\u001b[0;34m\u001b[0m\u001b[0;34m\u001b[0m\u001b[0m\n\u001b[0;32m--> 205\u001b[0;31m       \u001b[0mresult\u001b[0m \u001b[0;34m=\u001b[0m \u001b[0mmethod\u001b[0m\u001b[0;34m(\u001b[0m\u001b[0mself\u001b[0m\u001b[0;34m,\u001b[0m \u001b[0;34m*\u001b[0m\u001b[0margs\u001b[0m\u001b[0;34m,\u001b[0m \u001b[0;34m**\u001b[0m\u001b[0mkwargs\u001b[0m\u001b[0;34m)\u001b[0m\u001b[0;34m\u001b[0m\u001b[0;34m\u001b[0m\u001b[0m\n\u001b[0m\u001b[1;32m    206\u001b[0m     \u001b[0;32mfinally\u001b[0m\u001b[0;34m:\u001b[0m\u001b[0;34m\u001b[0m\u001b[0;34m\u001b[0m\u001b[0m\n\u001b[1;32m    207\u001b[0m       \u001b[0mself\u001b[0m\u001b[0;34m.\u001b[0m\u001b[0m_self_setattr_tracking\u001b[0m \u001b[0;34m=\u001b[0m \u001b[0mprevious_value\u001b[0m  \u001b[0;31m# pylint: disable=protected-access\u001b[0m\u001b[0;34m\u001b[0m\u001b[0;34m\u001b[0m\u001b[0m\n",
            "\u001b[0;32m/usr/local/lib/python3.10/dist-packages/keras/engine/functional.py\u001b[0m in \u001b[0;36m__init__\u001b[0;34m(self, inputs, outputs, name, trainable, **kwargs)\u001b[0m\n\u001b[1;32m    157\u001b[0m         \u001b[0;32mif\u001b[0m \u001b[0mtf\u001b[0m\u001b[0;34m.\u001b[0m\u001b[0mcompat\u001b[0m\u001b[0;34m.\u001b[0m\u001b[0mv1\u001b[0m\u001b[0;34m.\u001b[0m\u001b[0mexecuting_eagerly_outside_functions\u001b[0m\u001b[0;34m(\u001b[0m\u001b[0;34m)\u001b[0m\u001b[0;34m:\u001b[0m\u001b[0;34m\u001b[0m\u001b[0;34m\u001b[0m\u001b[0m\n\u001b[1;32m    158\u001b[0m             if not all(\n\u001b[0;32m--> 159\u001b[0;31m                 [\n\u001b[0m\u001b[1;32m    160\u001b[0m                     \u001b[0mfunctional_utils\u001b[0m\u001b[0;34m.\u001b[0m\u001b[0mis_input_keras_tensor\u001b[0m\u001b[0;34m(\u001b[0m\u001b[0mt\u001b[0m\u001b[0;34m)\u001b[0m\u001b[0;34m\u001b[0m\u001b[0;34m\u001b[0m\u001b[0m\n\u001b[1;32m    161\u001b[0m                     \u001b[0;32mfor\u001b[0m \u001b[0mt\u001b[0m \u001b[0;32min\u001b[0m \u001b[0mtf\u001b[0m\u001b[0;34m.\u001b[0m\u001b[0mnest\u001b[0m\u001b[0;34m.\u001b[0m\u001b[0mflatten\u001b[0m\u001b[0;34m(\u001b[0m\u001b[0minputs\u001b[0m\u001b[0;34m)\u001b[0m\u001b[0;34m\u001b[0m\u001b[0;34m\u001b[0m\u001b[0m\n",
            "\u001b[0;32m/usr/local/lib/python3.10/dist-packages/keras/engine/functional.py\u001b[0m in \u001b[0;36m<listcomp>\u001b[0;34m(.0)\u001b[0m\n\u001b[1;32m    158\u001b[0m             if not all(\n\u001b[1;32m    159\u001b[0m                 [\n\u001b[0;32m--> 160\u001b[0;31m                     \u001b[0mfunctional_utils\u001b[0m\u001b[0;34m.\u001b[0m\u001b[0mis_input_keras_tensor\u001b[0m\u001b[0;34m(\u001b[0m\u001b[0mt\u001b[0m\u001b[0;34m)\u001b[0m\u001b[0;34m\u001b[0m\u001b[0;34m\u001b[0m\u001b[0m\n\u001b[0m\u001b[1;32m    161\u001b[0m                     \u001b[0;32mfor\u001b[0m \u001b[0mt\u001b[0m \u001b[0;32min\u001b[0m \u001b[0mtf\u001b[0m\u001b[0;34m.\u001b[0m\u001b[0mnest\u001b[0m\u001b[0;34m.\u001b[0m\u001b[0mflatten\u001b[0m\u001b[0;34m(\u001b[0m\u001b[0minputs\u001b[0m\u001b[0;34m)\u001b[0m\u001b[0;34m\u001b[0m\u001b[0;34m\u001b[0m\u001b[0m\n\u001b[1;32m    162\u001b[0m                 ]\n",
            "\u001b[0;32m/usr/local/lib/python3.10/dist-packages/keras/engine/functional_utils.py\u001b[0m in \u001b[0;36mis_input_keras_tensor\u001b[0;34m(tensor)\u001b[0m\n\u001b[1;32m     46\u001b[0m     \"\"\"\n\u001b[1;32m     47\u001b[0m     \u001b[0;32mif\u001b[0m \u001b[0;32mnot\u001b[0m \u001b[0mnode_module\u001b[0m\u001b[0;34m.\u001b[0m\u001b[0mis_keras_tensor\u001b[0m\u001b[0;34m(\u001b[0m\u001b[0mtensor\u001b[0m\u001b[0;34m)\u001b[0m\u001b[0;34m:\u001b[0m\u001b[0;34m\u001b[0m\u001b[0;34m\u001b[0m\u001b[0m\n\u001b[0;32m---> 48\u001b[0;31m         \u001b[0;32mraise\u001b[0m \u001b[0mValueError\u001b[0m\u001b[0;34m(\u001b[0m\u001b[0m_KERAS_TENSOR_TYPE_CHECK_ERROR_MSG\u001b[0m\u001b[0;34m.\u001b[0m\u001b[0mformat\u001b[0m\u001b[0;34m(\u001b[0m\u001b[0mtensor\u001b[0m\u001b[0;34m)\u001b[0m\u001b[0;34m)\u001b[0m\u001b[0;34m\u001b[0m\u001b[0;34m\u001b[0m\u001b[0m\n\u001b[0m\u001b[1;32m     49\u001b[0m     \u001b[0;32mreturn\u001b[0m \u001b[0mtensor\u001b[0m\u001b[0;34m.\u001b[0m\u001b[0mnode\u001b[0m\u001b[0;34m.\u001b[0m\u001b[0mis_input\u001b[0m\u001b[0;34m\u001b[0m\u001b[0;34m\u001b[0m\u001b[0m\n\u001b[1;32m     50\u001b[0m \u001b[0;34m\u001b[0m\u001b[0m\n",
            "\u001b[0;31mValueError\u001b[0m: Found unexpected instance while processing input tensors for keras functional model. Expecting KerasTensor which is from tf.keras.Input() or output from keras layer call(). Got: [[[[[-1.49458289e+00]\n    [ 7.93950334e-02]\n    [ 9.21050906e-02]\n    ...\n    [ 8.98654461e-01]\n    [-1.20354342e+00]\n    [-1.46602464e+00]]\n\n   [[ 1.31759417e+00]\n    [ 1.43011287e-01]\n    [ 6.49429083e-01]\n    ...\n    [-9.81933534e-01]\n    [-3.62212211e-01]\n    [ 1.82244763e-01]]\n\n   [[ 8.74107540e-01]\n    [-2.39095077e-01]\n    [ 6.41905248e-01]\n    ...\n    [-1.03187568e-01]\n    [ 5.64499021e-01]\n    [ 1.73030150e+00]]\n\n   ...\n\n   [[-8.73034716e-01]\n    [ 7.39395916e-01]\n    [ 5.96173584e-01]\n    ...\n    [-1.99560058e+00]\n    [ 7.99994588e-01]\n    [ 6.11300170e-01]]\n\n   [[-8.66892561e-02]\n    [ 6.58686385e-02]\n    [-4.73500758e-01]\n    ...\n    [-7.21237957e-01]\n    [ 3.85982692e-01]\n    [ 1.26385957e-01]]\n\n   [[ 1.69757569e+00]\n    [-1.22897255e+00]\n    [-1.03308702e+00]\n    ...\n    [-2.94677019e-01]\n    [-1.03520679e+00]\n    [ 7.49980807e-01]]]\n\n\n  [[[-5.63225925e-01]\n    [ 7.42821634e-01]\n    [ 8.24824929e-01]\n    ...\n    [-9.17523444e-01]\n    [-5.73864818e-01]\n    [ 9.54320669e-01]]\n\n   [[ 1.15549242e+00]\n    [ 3.94530982e-01]\n    [ 1.45139307e-01]\n    ...\n    [-6.14319921e-01]\n    [ 9.31333542e-01]\n    [-5.68340957e-01]]\n\n   [[-2.14298442e-01]\n    [-1.17441845e+00]\n    [-8.84060800e-01]\n    ...\n    [-8.05466294e-01]\n    [ 1.52267575e+00]\n    [-7.85463929e-01]]\n\n   ...\n\n   [[-1.54973698e+00]\n    [-8.42416704e-01]\n    [-1.69898137e-01]\n    ...\n    [ 3.75479413e-03]\n    [ 1.72421122e+00]\n    [-1.19837379e+00]]\n\n   [[ 6.13994598e-01]\n    [-2.37308383e-01]\n    [ 1.24968076e+00]\n    ...\n    [-3.46537754e-02]\n    [ 3.14018816e-01]\n    [ 1.02122641e+00]]\n\n   [[-4.70326573e-01]\n    [ 2.42837739e+00]\n    [ 8.70835185e-01]\n    ...\n    [ 1.28940773e+00]\n    [ 8.00764441e-01]\n    [-9.92070973e-01]]]\n\n\n  [[[-2.30297494e+00]\n    [-1.70398521e+00]\n    [-8.16593587e-01]\n    ...\n    [ 3.03319424e-01]\n    [ 7.15748817e-02]\n    [ 1.29684353e+00]]\n\n   [[-1.07356690e-01]\n    [ 4.94726151e-01]\n    [-1.56047702e+00]\n    ...\n    [ 3.22191626e-01]\n    [ 3.06119621e-01]\n    [-1.41319227e+00]]\n\n   [[-1.96916521e-01]\n    [ 9.64916646e-01]\n    [ 1.72621682e-01]\n    ...\n    [ 5.23770511e-01]\n    [-2.68119901e-01]\n    [ 1.19797580e-01]]\n\n   ...\n\n   [[ 8.07787001e-01]\n    [-1.52667332e+00]\n    [-9.24278975e-01]\n    ...\n    [ 5.25300205e-01]\n    [ 8.92778099e-01]\n    [-4.07900244e-01]]\n\n   [[-4.47645277e-01]\n    [ 1.03914082e+00]\n    [-3.04726362e-01]\n    ...\n    [-1.04383481e+00]\n    [ 4.33069319e-01]\n    [-1.19795449e-01]]\n\n   [[ 3.28772485e-01]\n    [ 6.05236851e-02]\n    [ 2.17039013e+00]\n    ...\n    [-1.40845776e+00]\n    [ 3.53586942e-01]\n    [ 1.16123807e+00]]]\n\n\n  ...\n\n\n  [[[ 1.32592845e+00]\n    [-9.18071210e-01]\n    [-4.36155826e-01]\n    ...\n    [ 4.44549531e-01]\n    [ 1.39454722e-01]\n    [ 1.00091696e+00]]\n\n   [[ 1.56291239e-02]\n    [-1.60592645e-01]\n    [ 1.38310111e+00]\n    ...\n    [ 9.88124967e-01]\n    [ 9.82677996e-01]\n    [-1.26274800e+00]]\n\n   [[ 6.54347301e-01]\n    [ 2.14163080e-01]\n    [-3.23685288e-01]\n    ...\n    [-2.10095835e+00]\n    [ 7.24421144e-01]\n    [ 4.76338029e-01]]\n\n   ...\n\n   [[ 6.83210641e-02]\n    [ 1.48542976e+00]\n    [-6.82417035e-01]\n    ...\n    [ 8.50097001e-01]\n    [ 9.04804707e-01]\n    [-1.44297378e-02]]\n\n   [[ 7.75719285e-02]\n    [ 4.70504463e-02]\n    [-9.61905539e-01]\n    ...\n    [-9.12285566e-01]\n    [ 1.70331585e+00]\n    [-1.54834449e+00]]\n\n   [[-1.44056833e+00]\n    [-4.87649649e-01]\n    [ 4.66459841e-01]\n    ...\n    [ 2.38092348e-01]\n    [ 1.15215564e+00]\n    [ 7.92535484e-01]]]\n\n\n  [[[ 6.01839602e-01]\n    [-1.62142491e+00]\n    [-1.71485752e-01]\n    ...\n    [-1.56510150e+00]\n    [ 4.25294250e-01]\n    [ 1.36449158e+00]]\n\n   [[-3.73102039e-01]\n    [-5.85039616e-01]\n    [-1.29150972e-01]\n    ...\n    [-5.29104233e-01]\n    [ 3.57502013e-01]\n    [ 1.05014420e+00]]\n\n   [[ 5.86284995e-01]\n    [-3.71124864e-01]\n    [ 1.37994123e+00]\n    ...\n    [-1.07614887e+00]\n    [-3.41349274e-01]\n    [ 1.09013176e+00]]\n\n   ...\n\n   [[-6.25173151e-01]\n    [-8.61056864e-01]\n    [-5.27889788e-01]\n    ...\n    [ 1.15606081e+00]\n    [ 1.58522499e+00]\n    [ 2.89681935e+00]]\n\n   [[ 1.51224613e+00]\n    [-2.52195001e+00]\n    [ 2.18372798e+00]\n    ...\n    [ 1.73969817e+00]\n    [-2.96845317e-01]\n    [ 8.74317586e-01]]\n\n   [[ 1.40053976e+00]\n    [ 2.71660864e-01]\n    [ 8.33316296e-02]\n    ...\n    [-1.23007321e+00]\n    [ 2.07284376e-01]\n    [ 4.10800695e-01]]]\n\n\n  [[[ 5.88657141e-01]\n    [-1.09030020e+00]\n    [ 4.14418280e-02]\n    ...\n    [ 1.61636853e+00]\n    [ 5.61407506e-01]\n    [ 4.94689524e-01]]\n\n   [[ 1.39221287e+00]\n    [ 8.81711423e-01]\n    [ 1.32800829e+00]\n    ...\n    [ 1.46392298e+00]\n    [-6.05691969e-01]\n    [ 9.72895622e-02]]\n\n   [[-9.66685295e-01]\n    [ 1.42202556e+00]\n    [-2.50494599e+00]\n    ...\n    [-6.29963756e-01]\n    [ 7.70550489e-01]\n    [ 4.30221856e-01]]\n\n   ...\n\n   [[ 2.84880590e+00]\n    [ 1.73694611e-01]\n    [ 2.08252683e-01]\n    ...\n    [-3.97149354e-01]\n    [ 3.39715421e-01]\n    [ 6.20190054e-02]]\n\n   [[ 1.13337159e+00]\n    [ 2.53775150e-01]\n    [ 8.33538949e-01]\n    ...\n    [ 4.82589394e-01]\n    [ 9.12306726e-01]\n    [ 2.46832743e-01]]\n\n   [[-2.84085661e-01]\n    [-2.59279203e+00]\n    [-6.19268179e-01]\n    ...\n    [ 3.00965250e-01]\n    [-2.29617864e-01]\n    [-2.05562606e-01]]]]\n\n\n\n [[[[-6.31179571e-01]\n    [ 2.38435626e+00]\n    [ 5.89750707e-01]\n    ...\n    [ 1.54614270e+00]\n    [-3.72852236e-01]\n    [-7.72179782e-01]]\n\n   [[ 1.59311429e-01]\n    [-1.45727861e+00]\n    [ 2.66866636e+00]\n    ...\n    [ 1.52460024e-01]\n    [-5.16339839e-01]\n    [ 9.93285418e-01]]\n\n   [[-5.70949435e-01]\n    [-8.59150648e-01]\n    [-7.21442401e-01]\n    ...\n    [-1.54258072e+00]\n    [ 6.50538921e-01]\n    [ 4.11992282e-01]]\n\n   ...\n\n   [[ 1.01131928e+00]\n    [-5.06604493e-01]\n    [ 5.62430732e-02]\n    ...\n    [ 1.46235991e+00]\n    [-5.84600568e-02]\n    [-9.15117323e-01]]\n\n   [[-5.76516032e-01]\n    [-4.10331130e-01]\n    [ 1.08770192e+00]\n    ...\n    [ 2.53927946e-01]\n    [-8.74038815e-01]\n    [-1.14174855e+00]]\n\n   [[-1.53505981e-01]\n    [-5.47829270e-01]\n    [ 9.23659861e-01]\n    ...\n    [ 9.13655639e-01]\n    [-1.93887979e-01]\n    [ 4.76310194e-01]]]\n\n\n  [[[ 1.64183043e-02]\n    [ 8.79155219e-01]\n    [-8.43911409e-01]\n    ...\n    [ 8.50809097e-01]\n    [ 7.79293716e-01]\n    [-1.68652904e+00]]\n\n   [[-1.83120239e+00]\n    [-3.51254016e-01]\n    [ 1.04963100e+00]\n    ...\n    [-2.20700398e-01]\n    [-1.53469825e+00]\n    [-2.37847471e+00]]\n\n   [[ 9.03358340e-01]\n    [ 1.05331063e+00]\n    [ 1.76240101e-01]\n    ...\n    [ 2.72019058e-01]\n    [ 3.60494107e-01]\n    [ 4.78859186e-01]]\n\n   ...\n\n   [[-2.19272688e-01]\n    [-3.52761388e-01]\n    [-9.78882730e-01]\n    ...\n    [ 1.90976292e-01]\n    [-1.64032340e+00]\n    [-1.62239766e+00]]\n\n   [[-7.97184885e-01]\n    [-2.92005271e-01]\n    [ 6.62921250e-01]\n    ...\n    [ 1.10482395e-01]\n    [-4.05838072e-01]\n    [-7.31977075e-02]]\n\n   [[-4.97337073e-01]\n    [-2.92004615e-01]\n    [ 7.02105939e-01]\n    ...\n    [-5.88090360e-01]\n    [ 6.04071431e-02]\n    [ 4.95921731e-01]]]\n\n\n  [[[ 3.81210238e-01]\n    [-7.03959644e-01]\n    [-1.53344977e+00]\n    ...\n    [ 1.08835018e+00]\n    [ 3.21960449e-01]\n    [-1.56157172e+00]]\n\n   [[-1.31708241e+00]\n    [ 5.32201886e-01]\n    [-1.16924286e+00]\n    ...\n    [-4.23471294e-02]\n    [ 8.94738436e-01]\n    [-4.95530754e-01]]\n\n   [[-1.20415688e+00]\n    [-7.86470652e-01]\n    [-3.07306815e-02]\n    ...\n    [ 7.81042099e-01]\n    [-1.12240863e+00]\n    [ 1.81075239e+00]]\n\n   ...\n\n   [[ 6.87403262e-01]\n    [-8.26612353e-01]\n    [ 1.09197307e+00]\n    ...\n    [-2.77121570e-02]\n    [-5.63785434e-01]\n    [ 5.18170357e-01]]\n\n   [[-3.37198675e-01]\n    [ 4.31864232e-01]\n    [ 3.77084017e-01]\n    ...\n    [-8.32230330e-01]\n    [ 2.00891566e+00]\n    [ 3.84622991e-01]]\n\n   [[ 1.01237535e+00]\n    [ 6.29433990e-02]\n    [ 1.50577581e+00]\n    ...\n    [-2.24690199e-01]\n    [ 9.02015626e-01]\n    [-1.33280182e+00]]]\n\n\n  ...\n\n\n  [[[-3.19557115e-02]\n    [ 6.94497466e-01]\n    [ 9.10920501e-01]\n    ...\n    [-7.22615659e-01]\n    [ 1.39863169e+00]\n    [-9.17096615e-01]]\n\n   [[-4.01534885e-01]\n    [-2.84977734e-01]\n    [ 1.74724370e-01]\n    ...\n    [-5.77922650e-02]\n    [-2.21658662e-01]\n    [ 3.12601924e+00]]\n\n   [[ 7.36540481e-02]\n    [-2.06006303e-01]\n    [-4.43124056e-01]\n    ...\n    [-9.15375292e-01]\n    [-7.00022101e-01]\n    [-2.94529587e-01]]\n\n   ...\n\n   [[-8.46453130e-01]\n    [ 1.32962659e-01]\n    [ 1.85651302e+00]\n    ...\n    [ 6.04857445e-01]\n    [ 2.38007531e-01]\n    [ 8.30770671e-01]]\n\n   [[ 1.51264697e-01]\n    [-7.85824716e-01]\n    [ 9.45796311e-01]\n    ...\n    [-5.04531324e-01]\n    [-8.76581252e-01]\n    [-9.01114523e-01]]\n\n   [[-4.29668695e-01]\n    [-4.41042006e-01]\n    [ 1.62311554e+00]\n    ...\n    [ 2.00464392e+00]\n    [-8.29717159e-01]\n    [ 1.53652918e+00]]]\n\n\n  [[[ 3.92858475e-01]\n    [ 6.28213882e-01]\n    [ 1.77245820e+00]\n    ...\n    [-5.13244212e-01]\n    [-4.10164207e-01]\n    [-6.42550230e-01]]\n\n   [[ 2.08833218e+00]\n    [ 6.83248162e-01]\n    [ 9.98983979e-01]\n    ...\n    [ 2.77533674e+00]\n    [ 8.97921324e-01]\n    [-4.80446309e-01]]\n\n   [[ 4.11952108e-01]\n    [-1.16509938e+00]\n    [ 5.11097014e-01]\n    ...\n    [-1.54074955e+00]\n    [ 3.37428999e+00]\n    [-3.18209350e-01]]\n\n   ...\n\n   [[-1.03358197e+00]\n    [ 6.32605553e-01]\n    [-3.25711131e-01]\n    ...\n    [-3.41795087e-01]\n    [ 2.83822209e-01]\n    [-5.29333413e-01]]\n\n   [[-7.16136098e-01]\n    [ 8.56706202e-01]\n    [ 6.08745933e-01]\n    ...\n    [-2.30502653e+00]\n    [ 2.31563419e-01]\n    [-7.51862705e-01]]\n\n   [[-8.74785364e-01]\n    [ 8.73874128e-02]\n    [-2.29024127e-01]\n    ...\n    [-7.82377541e-01]\n    [ 2.05275059e-01]\n    [-2.23853678e-01]]]\n\n\n  [[[ 1.39544213e+00]\n    [ 8.51602137e-01]\n    [-2.05200016e-01]\n    ...\n    [ 3.95237535e-01]\n    [-7.41895556e-01]\n    [-1.63441026e+00]]\n\n   [[ 6.54720306e-01]\n    [-7.89598227e-01]\n    [ 3.95660475e-02]\n    ...\n    [ 7.45187998e-01]\n    [ 6.34527028e-01]\n    [-2.05839192e-03]]\n\n   [[-1.91520977e+00]\n    [ 4.10526484e-01]\n    [ 1.53685898e-01]\n    ...\n    [ 2.45620906e-01]\n    [ 5.24645925e-01]\n    [-1.90316117e+00]]\n\n   ...\n\n   [[-5.70725083e-01]\n    [ 3.35279512e+00]\n    [ 1.29912949e+00]\n    ...\n    [-6.89083159e-01]\n    [ 4.77181554e-01]\n    [ 3.75925452e-02]]\n\n   [[ 4.93047833e-01]\n    [ 3.91187429e-01]\n    [-4.50962968e-02]\n    ...\n    [-9.56283331e-01]\n    [-7.50389174e-02]\n    [-8.22673380e-01]]\n\n   [[ 8.07261944e-01]\n    [ 1.17755890e+00]\n    [-1.91951379e-01]\n    ...\n    [ 1.80478489e+00]\n    [ 2.41792873e-01]\n    [ 1.36342072e+00]]]]\n\n\n\n [[[[ 7.41484463e-01]\n    [ 1.09815919e+00]\n    [-9.59947050e-01]\n    ...\n    [ 1.83745965e-01]\n    [-1.52149901e-01]\n    [-1.19664341e-01]]\n\n   [[-2.59581685e-01]\n    [-1.74766612e+00]\n    [-1.69196844e+00]\n    ...\n    [ 9.19230998e-01]\n    [-2.13466597e+00]\n    [-8.99163663e-01]]\n\n   [[ 1.73891485e+00]\n    [ 7.44695306e-01]\n    [ 5.72270751e-01]\n    ...\n    [ 1.31484702e-01]\n    [ 8.51824999e-01]\n    [-4.83963847e-01]]\n\n   ...\n\n   [[ 2.61775315e-01]\n    [ 7.83352911e-01]\n    [-7.89988115e-02]\n    ...\n    [ 6.77882493e-01]\n    [-4.18748587e-01]\n    [ 2.28024244e+00]]\n\n   [[-2.34246567e-01]\n    [ 3.18790078e-01]\n    [-9.59949672e-01]\n    ...\n    [-4.45510954e-01]\n    [-1.01183331e+00]\n    [-1.79429662e+00]]\n\n   [[-6.88774407e-01]\n    [ 5.96574664e-01]\n    [-8.08041930e-01]\n    ...\n    [ 3.89680266e-01]\n    [ 7.68278003e-01]\n    [ 7.97689140e-01]]]\n\n\n  [[[-7.60681987e-01]\n    [-8.59130621e-01]\n    [ 6.82528690e-02]\n    ...\n    [ 1.29342228e-01]\n    [ 2.69138068e-01]\n    [ 1.75367057e-01]]\n\n   [[-5.06492853e-01]\n    [ 5.88872850e-01]\n    [-7.48425424e-01]\n    ...\n    [-1.42938566e+00]\n    [ 5.79692543e-01]\n    [-1.87890077e+00]]\n\n   [[-1.78611267e+00]\n    [-6.33396745e-01]\n    [-6.28296554e-01]\n    ...\n    [-8.39741468e-01]\n    [ 1.76426888e+00]\n    [ 3.85145217e-01]]\n\n   ...\n\n   [[-1.79846036e+00]\n    [-4.85251367e-01]\n    [-1.00874865e+00]\n    ...\n    [ 3.47409248e-01]\n    [ 1.30915582e+00]\n    [ 3.57234240e-01]]\n\n   [[-1.38558638e+00]\n    [ 6.69068933e-01]\n    [ 1.33223414e+00]\n    ...\n    [ 2.30624771e+00]\n    [ 9.53059196e-01]\n    [ 7.80044436e-01]]\n\n   [[-3.42608005e-01]\n    [ 9.70807493e-01]\n    [-3.26822773e-02]\n    ...\n    [-1.59248722e+00]\n    [-8.46085191e-01]\n    [ 6.55440092e-01]]]\n\n\n  [[[ 5.51997200e-02]\n    [-8.10651660e-01]\n    [ 6.16735160e-01]\n    ...\n    [ 1.94540799e+00]\n    [ 1.55452836e+00]\n    [ 2.38590509e-01]]\n\n   [[-1.31584471e-02]\n    [ 6.93410933e-01]\n    [ 1.04192269e+00]\n    ...\n    [-4.55412008e-02]\n    [ 1.28608322e+00]\n    [-1.24495649e+00]]\n\n   [[ 1.30734313e+00]\n    [ 2.68378854e-01]\n    [ 1.80336189e+00]\n    ...\n    [ 9.54723716e-01]\n    [-3.52395326e-01]\n    [ 6.22871518e-01]]\n\n   ...\n\n   [[ 2.19848585e+00]\n    [-2.31912404e-01]\n    [ 4.48199958e-01]\n    ...\n    [-1.76111042e+00]\n    [-6.99447453e-01]\n    [ 1.11589193e+00]]\n\n   [[-5.29545069e-01]\n    [-1.26456451e+00]\n    [ 1.03398573e+00]\n    ...\n    [ 1.39208186e+00]\n    [ 1.97500095e-01]\n    [-3.64723384e-01]]\n\n   [[ 7.07012415e-01]\n    [-1.04118347e+00]\n    [ 3.56449395e-01]\n    ...\n    [-1.13261020e+00]\n    [-7.19681799e-01]\n    [ 9.19540226e-01]]]\n\n\n  ...\n\n\n  [[[-1.30960441e+00]\n    [-2.41988942e-01]\n    [-5.80344200e-01]\n    ...\n    [ 2.21921116e-01]\n    [ 6.46575332e-01]\n    [ 5.25507070e-02]]\n\n   [[-2.36634707e+00]\n    [ 4.95271891e-01]\n    [-8.15671384e-01]\n    ...\n    [-1.84805661e-01]\n    [ 6.60288155e-01]\n    [-9.72025812e-01]]\n\n   [[-5.02304196e-01]\n    [-1.13204412e-01]\n    [ 4.50564414e-01]\n    ...\n    [ 1.26842117e+00]\n    [ 1.80458069e+00]\n    [-1.80867004e+00]]\n\n   ...\n\n   [[-2.75637984e-01]\n    [ 6.37577236e-01]\n    [ 1.97945070e-02]\n    ...\n    [-8.35126936e-02]\n    [ 3.46114635e-01]\n    [-2.14501143e+00]]\n\n   [[ 2.55827516e-01]\n    [ 5.93156874e-01]\n    [-3.02239871e+00]\n    ...\n    [ 8.32379520e-01]\n    [-3.48497152e-01]\n    [ 9.36075509e-01]]\n\n   [[-1.05850887e+00]\n    [-2.63990462e-01]\n    [ 4.65097934e-01]\n    ...\n    [-5.38672321e-03]\n    [-5.60724020e-01]\n    [-8.35053504e-01]]]\n\n\n  [[[ 1.38526142e+00]\n    [-3.07786524e-01]\n    [-1.03434455e+00]\n    ...\n    [ 1.04020643e+00]\n    [-1.55632243e-01]\n    [ 1.34699118e+00]]\n\n   [[ 6.89448237e-01]\n    [-5.33676147e-01]\n    [ 1.27394259e-01]\n    ...\n    [-2.69940048e-01]\n    [ 1.66492116e+00]\n    [ 9.51957643e-01]]\n\n   [[-2.69614875e-01]\n    [ 1.25554681e+00]\n    [ 7.42006242e-01]\n    ...\n    [-1.31201720e+00]\n    [ 1.97014105e+00]\n    [-8.94122481e-01]]\n\n   ...\n\n   [[-3.84614021e-01]\n    [ 1.38422817e-01]\n    [ 9.18350518e-01]\n    ...\n    [ 4.26616848e-01]\n    [-8.27472806e-02]\n    [-1.08194923e+00]]\n\n   [[-1.67541310e-01]\n    [ 1.09714961e+00]\n    [-4.80814993e-01]\n    ...\n    [ 6.83898926e-01]\n    [ 1.01650631e+00]\n    [-8.11273232e-02]]\n\n   [[-1.54799068e+00]\n    [ 9.69377995e-01]\n    [ 6.06780052e-01]\n    ...\n    [ 5.94894707e-01]\n    [ 2.02068615e+00]\n    [-1.13764358e+00]]]\n\n\n  [[[-6.27820373e-01]\n    [ 4.26663011e-01]\n    [ 3.41613591e-01]\n    ...\n    [-5.10893106e-01]\n    [ 1.48374724e+00]\n    [ 6.77726492e-02]]\n\n   [[-4.01195884e-01]\n    [-5.32760561e-01]\n    [-1.24074137e+00]\n    ...\n    [ 1.80480108e-01]\n    [-1.85418713e+00]\n    [-1.96186388e+00]]\n\n   [[-8.47526670e-01]\n    [-2.98553920e+00]\n    [-8.56949985e-01]\n    ...\n    [-1.49841762e+00]\n    [ 9.22090352e-01]\n    [-5.00536025e-01]]\n\n   ...\n\n   [[ 4.95957643e-01]\n    [ 7.61564016e-01]\n    [ 8.43841374e-01]\n    ...\n    [ 1.25843108e+00]\n    [ 2.30884790e+00]\n    [-9.65469897e-01]]\n\n   [[-2.31412306e-01]\n    [ 9.02220368e-01]\n    [ 3.58897285e-03]\n    ...\n    [-6.17801309e-01]\n    [-5.36444366e-01]\n    [-5.24042733e-02]]\n\n   [[-4.31710541e-01]\n    [-1.68034270e-01]\n    [ 6.57416761e-01]\n    ...\n    [-2.15777531e-01]\n    [-5.18549621e-01]\n    [ 1.05075693e+00]]]]\n\n\n\n ...\n\n\n\n [[[[ 6.33323193e-01]\n    [ 4.57088470e-01]\n    [-3.33285213e-01]\n    ...\n    [-6.00542009e-01]\n    [ 3.29947881e-02]\n    [-3.53602082e-01]]\n\n   [[ 2.23053798e-01]\n    [ 6.08771265e-01]\n    [ 6.97724998e-01]\n    ...\n    [-4.46054995e-01]\n    [ 5.40092349e-01]\n    [-3.03337067e-01]]\n\n   [[-3.56551945e-01]\n    [ 1.42058921e+00]\n    [-3.43235940e-01]\n    ...\n    [ 3.66743773e-01]\n    [-3.20237368e-01]\n    [-1.40206873e+00]]\n\n   ...\n\n   [[ 1.60176143e-01]\n    [ 7.52772763e-02]\n    [ 4.01307762e-01]\n    ...\n    [-9.97123122e-01]\n    [ 7.09967673e-01]\n    [ 3.78936738e-01]]\n\n   [[ 1.23492742e+00]\n    [ 6.10154569e-01]\n    [-8.76548052e-01]\n    ...\n    [ 3.26619774e-01]\n    [ 2.01600969e-01]\n    [ 1.58112049e+00]]\n\n   [[ 5.81520021e-01]\n    [-1.87683117e+00]\n    [-2.26351872e-01]\n    ...\n    [-1.59153736e+00]\n    [ 1.10219872e+00]\n    [ 1.04037845e+00]]]\n\n\n  [[[ 1.35072935e+00]\n    [-1.16928804e+00]\n    [-1.33817589e+00]\n    ...\n    [ 2.72009015e+00]\n    [-4.79119688e-01]\n    [ 1.13238029e-01]]\n\n   [[ 8.17992631e-03]\n    [ 6.63247585e-01]\n    [-2.17310977e+00]\n    ...\n    [-1.24998164e+00]\n    [-3.13828677e-01]\n    [ 6.77921847e-02]]\n\n   [[ 1.31871712e+00]\n    [-1.63440859e+00]\n    [ 2.00668111e-01]\n    ...\n    [-1.12840796e+00]\n    [-5.27963042e-01]\n    [ 1.70777515e-01]]\n\n   ...\n\n   [[-1.12119257e+00]\n    [ 9.82572079e-01]\n    [ 1.53763831e+00]\n    ...\n    [ 1.74591497e-01]\n    [ 1.15583098e+00]\n    [-4.55204576e-01]]\n\n   [[-1.42303813e+00]\n    [-8.34455431e-01]\n    [-1.18492138e+00]\n    ...\n    [ 6.81534946e-01]\n    [-4.40526575e-01]\n    [-1.01475596e+00]]\n\n   [[-1.90100336e+00]\n    [ 4.36569661e-01]\n    [-1.10481393e+00]\n    ...\n    [-5.69391966e-01]\n    [-1.31966189e-01]\n    [-1.07712543e+00]]]\n\n\n  [[[-5.91346681e-01]\n    [ 1.19793713e-01]\n    [-1.10186946e+00]\n    ...\n    [ 4.40261103e-02]\n    [ 8.33656430e-01]\n    [ 1.33967364e+00]]\n\n   [[-7.16652632e-01]\n    [-9.79771376e-01]\n    [-1.90224975e-01]\n    ...\n    [ 1.91290843e+00]\n    [-4.17948127e-01]\n    [ 7.82062650e-01]]\n\n   [[-1.08049333e+00]\n    [-5.02471030e-01]\n    [ 1.64765370e+00]\n    ...\n    [-2.79790819e-01]\n    [-3.02470994e+00]\n    [ 2.06770825e+00]]\n\n   ...\n\n   [[ 5.00032663e-01]\n    [ 4.93000716e-01]\n    [-8.91291320e-01]\n    ...\n    [ 6.01022005e-01]\n    [ 1.98876083e-01]\n    [ 6.99591339e-01]]\n\n   [[-1.27154005e+00]\n    [-1.35757315e+00]\n    [-1.22977555e+00]\n    ...\n    [-1.91195977e+00]\n    [-1.14394760e+00]\n    [-7.77744532e-01]]\n\n   [[ 1.34551990e+00]\n    [-1.48867273e+00]\n    [ 4.94014382e-01]\n    ...\n    [ 1.09609091e+00]\n    [ 9.89561081e-01]\n    [ 1.66319191e+00]]]\n\n\n  ...\n\n\n  [[[ 1.64856982e+00]\n    [ 1.02312481e+00]\n    [ 8.89305592e-01]\n    ...\n    [ 3.12554777e-01]\n    [ 2.67010391e-01]\n    [ 8.81156087e-01]]\n\n   [[-3.99209321e-01]\n    [-6.84599340e-01]\n    [-1.19877301e-01]\n    ...\n    [-2.09192419e+00]\n    [ 1.60799205e+00]\n    [-4.46993887e-01]]\n\n   [[ 4.62605029e-01]\n    [ 3.86882722e-02]\n    [ 7.83264458e-01]\n    ...\n    [-1.70102143e+00]\n    [-1.10983104e-02]\n    [-8.35201979e-01]]\n\n   ...\n\n   [[-1.98952854e+00]\n    [-3.77746642e-01]\n    [-5.23930669e-01]\n    ...\n    [ 8.87460232e-01]\n    [ 9.81555104e-01]\n    [-1.08663929e+00]]\n\n   [[ 1.83595455e+00]\n    [-8.22599888e-01]\n    [-8.35103571e-01]\n    ...\n    [ 1.19049847e+00]\n    [ 5.21587610e-01]\n    [ 5.12029946e-01]]\n\n   [[-5.63258708e-01]\n    [ 2.11178827e+00]\n    [ 3.54893297e-01]\n    ...\n    [-5.48442192e-02]\n    [-9.50084254e-02]\n    [ 5.16880453e-01]]]\n\n\n  [[[-8.00305307e-02]\n    [ 2.47245461e-01]\n    [-1.30191958e+00]\n    ...\n    [ 2.02581182e-01]\n    [ 2.44245246e-01]\n    [ 3.97975713e-01]]\n\n   [[ 4.98815745e-01]\n    [-1.76689649e+00]\n    [ 6.98729038e-01]\n    ...\n    [-1.72193909e+00]\n    [ 7.32770801e-01]\n    [ 7.29498148e-01]]\n\n   [[-1.19625330e+00]\n    [ 9.44644392e-01]\n    [-1.55885828e+00]\n    ...\n    [ 2.73836875e+00]\n    [-9.23879802e-01]\n    [-1.14108002e+00]]\n\n   ...\n\n   [[ 1.06381822e+00]\n    [-1.48809862e+00]\n    [ 1.15320098e+00]\n    ...\n    [-4.71756488e-01]\n    [-2.22375751e+00]\n    [ 8.63537073e-01]]\n\n   [[-5.81464589e-01]\n    [ 6.44194037e-02]\n    [ 6.01164937e-01]\n    ...\n    [-2.64917582e-01]\n    [-1.20043468e+00]\n    [-9.54203606e-01]]\n\n   [[-1.64262563e-01]\n    [-1.61424413e-01]\n    [-4.02816981e-01]\n    ...\n    [ 1.35691440e+00]\n    [ 5.73558629e-01]\n    [ 8.02667856e-01]]]\n\n\n  [[[-9.97612059e-01]\n    [ 7.12178230e-01]\n    [-1.30959702e+00]\n    ...\n    [ 6.80711150e-01]\n    [-3.40182960e-01]\n    [-2.69618630e-01]]\n\n   [[-6.73300982e-01]\n    [-1.71941555e+00]\n    [ 2.00098610e+00]\n    ...\n    [-7.46949136e-01]\n    [-7.70125762e-02]\n    [ 4.28653389e-01]]\n\n   [[ 1.86201894e+00]\n    [-9.37796474e-01]\n    [-4.35307115e-01]\n    ...\n    [-6.32757545e-01]\n    [ 1.17771161e+00]\n    [ 1.57718408e+00]]\n\n   ...\n\n   [[ 1.15911031e+00]\n    [-1.51205674e-01]\n    [-5.83052278e-01]\n    ...\n    [-9.33257401e-01]\n    [ 8.02075684e-01]\n    [ 6.43558502e-01]]\n\n   [[ 1.10214972e+00]\n    [-1.90666866e+00]\n    [ 7.56280005e-01]\n    ...\n    [-8.40411186e-02]\n    [-7.96890318e-01]\n    [ 1.05491865e+00]]\n\n   [[ 1.53137076e+00]\n    [ 1.53831911e+00]\n    [ 2.66227335e-01]\n    ...\n    [ 8.74737382e-01]\n    [-1.54416108e+00]\n    [ 1.49499491e-01]]]]\n\n\n\n [[[[-8.80196750e-01]\n    [ 1.23432465e-02]\n    [ 1.89357132e-01]\n    ...\n    [-9.41192865e-01]\n    [ 8.59285772e-01]\n    [ 9.07386303e-01]]\n\n   [[ 9.66440976e-01]\n    [ 2.54326200e+00]\n    [-6.84515715e-01]\n    ...\n    [-1.63981402e+00]\n    [-7.39400387e-01]\n    [ 1.76190048e-01]]\n\n   [[-2.49258846e-01]\n    [-3.06495696e-01]\n    [ 9.08463359e-01]\n    ...\n    [ 1.08680320e+00]\n    [ 1.66730538e-01]\n    [-7.98978508e-01]]\n\n   ...\n\n   [[ 3.47819269e-01]\n    [ 2.58135889e-02]\n    [-6.77762568e-01]\n    ...\n    [ 1.31019330e+00]\n    [-1.43291688e+00]\n    [ 4.13369268e-01]]\n\n   [[ 1.53330684e-01]\n    [ 1.54043210e+00]\n    [-1.15468192e+00]\n    ...\n    [ 1.03182852e+00]\n    [ 5.37432320e-02]\n    [ 2.13153386e+00]]\n\n   [[-7.04567075e-01]\n    [ 1.89193702e+00]\n    [ 5.17828524e-01]\n    ...\n    [ 7.94741094e-01]\n    [ 2.46828485e+00]\n    [ 4.56512123e-01]]]\n\n\n  [[[-1.01462734e+00]\n    [-4.94264841e-01]\n    [ 1.23877788e+00]\n    ...\n    [-1.14577937e+00]\n    [-1.53406823e+00]\n    [-2.89857894e-01]]\n\n   [[ 1.78154841e-01]\n    [ 2.28570789e-01]\n    [ 3.47605884e-01]\n    ...\n    [ 1.99677455e+00]\n    [-4.65673476e-01]\n    [-1.60767600e-01]]\n\n   [[ 6.56505167e-01]\n    [-2.11171314e-01]\n    [-4.29073006e-01]\n    ...\n    [-1.62929142e+00]\n    [ 1.43337739e+00]\n    [ 5.04355788e-01]]\n\n   ...\n\n   [[ 1.01920021e+00]\n    [ 6.39612019e-01]\n    [-4.93364573e-01]\n    ...\n    [ 1.81322980e+00]\n    [-3.47502917e-01]\n    [ 2.04227909e-01]]\n\n   [[ 2.43107295e+00]\n    [ 2.71079391e-01]\n    [ 4.70073581e-01]\n    ...\n    [ 1.19057024e+00]\n    [-5.05131483e-01]\n    [-1.12440765e+00]]\n\n   [[ 4.31456506e-01]\n    [ 7.16347396e-01]\n    [ 5.72512329e-01]\n    ...\n    [-1.61729288e+00]\n    [ 3.39806378e-01]\n    [ 6.62982583e-01]]]\n\n\n  [[[-2.34255433e+00]\n    [ 2.77143061e-01]\n    [-9.71652806e-01]\n    ...\n    [ 1.57244253e+00]\n    [-2.04952300e-01]\n    [-6.94167316e-01]]\n\n   [[-6.00416720e-01]\n    [ 2.30448052e-01]\n    [-1.68643534e+00]\n    ...\n    [ 2.68752307e-01]\n    [-9.41761971e-01]\n    [ 1.38819683e+00]]\n\n   [[ 3.50023419e-01]\n    [-1.79341710e+00]\n    [-9.40018520e-02]\n    ...\n    [ 6.75323978e-02]\n    [-1.23266888e+00]\n    [ 9.56394449e-02]]\n\n   ...\n\n   [[ 1.25533664e+00]\n    [ 1.84470916e+00]\n    [-7.76280761e-02]\n    ...\n    [-5.12541592e-01]\n    [ 4.69732046e-01]\n    [ 6.37472332e-01]]\n\n   [[-1.13093711e-01]\n    [-1.14507604e+00]\n    [ 1.13206990e-01]\n    ...\n    [-3.08842748e-01]\n    [-1.45076287e+00]\n    [-6.66443825e-01]]\n\n   [[ 8.48824203e-01]\n    [ 4.99282181e-01]\n    [ 7.58045018e-02]\n    ...\n    [ 1.93772793e-01]\n    [-3.70181084e-01]\n    [-1.18869436e+00]]]\n\n\n  ...\n\n\n  [[[-6.43749177e-01]\n    [ 1.75965416e+00]\n    [-1.86587781e-01]\n    ...\n    [-2.11516976e-01]\n    [-4.00322616e-01]\n    [ 2.29188412e-01]]\n\n   [[ 1.15885043e+00]\n    [ 1.52983606e+00]\n    [-9.54618752e-02]\n    ...\n    [ 8.35556209e-01]\n    [ 1.23308394e-02]\n    [-3.30516547e-01]]\n\n   [[ 6.71833903e-02]\n    [ 1.66118175e-01]\n    [ 3.64514828e-01]\n    ...\n    [ 1.22680688e+00]\n    [-2.90172696e-01]\n    [ 1.04221261e+00]]\n\n   ...\n\n   [[-4.87695158e-01]\n    [ 8.61603796e-01]\n    [ 6.98470056e-01]\n    ...\n    [ 3.51216763e-01]\n    [-1.55164456e+00]\n    [-4.56709802e-01]]\n\n   [[-1.46580607e-01]\n    [ 9.31620181e-01]\n    [ 8.40694159e-02]\n    ...\n    [-9.51709747e-01]\n    [ 1.73865366e+00]\n    [-7.10697591e-01]]\n\n   [[ 6.41884282e-03]\n    [-5.86990237e-01]\n    [ 3.38484347e-01]\n    ...\n    [-1.31228781e+00]\n    [ 1.99065423e+00]\n    [-8.11707616e-01]]]\n\n\n  [[[-4.35717344e-01]\n    [-1.90145731e-01]\n    [-3.56456749e-02]\n    ...\n    [-1.25938237e+00]\n    [-1.09151340e+00]\n    [ 1.58765340e+00]]\n\n   [[ 2.83696651e-02]\n    [-6.41016245e-01]\n    [ 1.35825717e+00]\n    ...\n    [-8.58069777e-01]\n    [-4.07703936e-01]\n    [-2.86266327e-01]]\n\n   [[-7.82480299e-01]\n    [ 1.77837461e-01]\n    [-1.01564479e+00]\n    ...\n    [-3.90560538e-01]\n    [ 4.48853403e-01]\n    [-1.68552935e+00]]\n\n   ...\n\n   [[-7.03017294e-01]\n    [ 1.70720190e-01]\n    [-3.30839813e-01]\n    ...\n    [ 7.47302294e-01]\n    [ 1.59526432e+00]\n    [ 3.04434001e-01]]\n\n   [[ 1.13667756e-01]\n    [-4.42416757e-01]\n    [ 7.14895248e-01]\n    ...\n    [ 1.06619954e-01]\n    [-9.05398607e-01]\n    [ 1.64009929e+00]]\n\n   [[-1.23100412e+00]\n    [-1.79166007e+00]\n    [ 1.84177291e+00]\n    ...\n    [ 2.09647059e+00]\n    [-2.06670499e+00]\n    [ 4.85557377e-01]]]\n\n\n  [[[-6.35241508e-01]\n    [-2.15460658e-01]\n    [-2.27343941e+00]\n    ...\n    [-1.95456374e+00]\n    [ 1.64925253e+00]\n    [ 3.14094305e-01]]\n\n   [[-6.19512975e-01]\n    [ 1.81848884e-01]\n    [ 1.13220763e+00]\n    ...\n    [-5.76027632e-01]\n    [-1.23843551e+00]\n    [ 6.06297255e-01]]\n\n   [[ 7.17347443e-01]\n    [ 7.53103435e-01]\n    [ 1.60492432e+00]\n    ...\n    [ 3.31512898e-01]\n    [ 7.30528176e-01]\n    [ 1.37554455e+00]]\n\n   ...\n\n   [[-8.56322229e-01]\n    [-6.02680743e-01]\n    [ 1.07580352e+00]\n    ...\n    [ 1.35612285e+00]\n    [ 1.81369138e+00]\n    [-7.01471031e-01]]\n\n   [[ 7.05667019e-01]\n    [ 4.65399951e-01]\n    [ 1.08299769e-01]\n    ...\n    [-9.00021121e-02]\n    [ 1.96581924e+00]\n    [ 3.84071887e-01]]\n\n   [[-1.12887628e-01]\n    [-4.05916601e-01]\n    [ 1.85925186e-01]\n    ...\n    [ 1.67318478e-01]\n    [ 1.39531517e+00]\n    [-6.76183701e-01]]]]\n\n\n\n [[[[-3.05928081e-01]\n    [ 4.29568172e-01]\n    [-8.49737287e-01]\n    ...\n    [-1.20501745e+00]\n    [ 1.02814662e+00]\n    [-2.74767876e-01]]\n\n   [[-1.50302851e+00]\n    [-1.26478001e-01]\n    [-3.24510008e-01]\n    ...\n    [-2.78573960e-01]\n    [ 1.23133838e+00]\n    [-1.18902683e+00]]\n\n   [[ 6.66130245e-01]\n    [-1.98999274e+00]\n    [-1.35709596e+00]\n    ...\n    [-1.61505032e+00]\n    [ 7.47107089e-01]\n    [ 2.32766724e+00]]\n\n   ...\n\n   [[ 2.66375065e-01]\n    [-1.33249056e+00]\n    [-2.58753896e+00]\n    ...\n    [ 6.31612480e-01]\n    [-1.49451208e+00]\n    [ 1.00436211e-01]]\n\n   [[-1.67744792e+00]\n    [ 7.33060837e-01]\n    [ 4.39868599e-01]\n    ...\n    [-1.28500089e-01]\n    [ 1.98956937e-01]\n    [ 1.11411378e-01]]\n\n   [[ 4.25097346e-01]\n    [-8.68434668e-01]\n    [-5.28705359e-01]\n    ...\n    [-1.68541932e+00]\n    [ 5.98974861e-02]\n    [-3.95762205e-01]]]\n\n\n  [[[ 7.22321630e-01]\n    [ 7.39506245e-01]\n    [ 5.39163113e-01]\n    ...\n    [-8.48001122e-01]\n    [-2.79056430e-01]\n    [ 1.43632901e+00]]\n\n   [[ 7.84703642e-02]\n    [-1.24795461e+00]\n    [-1.35718846e+00]\n    ...\n    [ 2.04716772e-02]\n    [ 2.75394246e-02]\n    [ 5.57488538e-02]]\n\n   [[ 7.17194736e-01]\n    [-9.00393784e-01]\n    [ 9.16734099e-01]\n    ...\n    [-1.45215666e+00]\n    [-1.88335776e+00]\n    [ 6.82301402e-01]]\n\n   ...\n\n   [[ 1.02778070e-01]\n    [ 1.49159217e+00]\n    [ 2.49544904e-01]\n    ...\n    [ 8.82121980e-01]\n    [-1.86584544e+00]\n    [ 5.66369891e-01]]\n\n   [[ 1.02613650e-01]\n    [ 1.35813618e+00]\n    [-1.42261922e+00]\n    ...\n    [ 9.29378927e-01]\n    [ 1.11657619e+00]\n    [-4.50021088e-01]]\n\n   [[ 8.96055758e-01]\n    [ 6.76825702e-01]\n    [-2.45959014e-01]\n    ...\n    [-2.27992463e+00]\n    [ 9.60487783e-01]\n    [ 8.24108273e-02]]]\n\n\n  [[[ 1.48171872e-01]\n    [-1.44089973e+00]\n    [-6.30001903e-01]\n    ...\n    [ 6.07517421e-01]\n    [ 8.01552832e-01]\n    [-4.63223420e-02]]\n\n   [[-6.95089921e-02]\n    [ 6.39321685e-01]\n    [-4.38434482e-01]\n    ...\n    [-2.33953619e+00]\n    [-4.15172160e-01]\n    [-1.10484648e+00]]\n\n   [[-1.60765553e+00]\n    [ 3.58095109e-01]\n    [-3.43775339e-02]\n    ...\n    [-2.63128251e-01]\n    [-3.25446010e-01]\n    [ 5.56129754e-01]]\n\n   ...\n\n   [[ 6.70144439e-01]\n    [-5.97179115e-01]\n    [-1.91022590e-01]\n    ...\n    [ 1.00771213e+00]\n    [ 4.13309902e-01]\n    [ 6.21741593e-01]]\n\n   [[-1.13843405e+00]\n    [ 2.68007636e-01]\n    [-3.04710031e-01]\n    ...\n    [-1.04373312e+00]\n    [-8.94846857e-01]\n    [ 7.08661005e-02]]\n\n   [[ 4.42609549e-01]\n    [-1.29091471e-01]\n    [ 7.43197203e-02]\n    ...\n    [ 6.84092224e-01]\n    [ 7.20142126e-01]\n    [ 1.62123084e+00]]]\n\n\n  ...\n\n\n  [[[-1.28319740e+00]\n    [-1.95796236e-01]\n    [-9.27231789e-01]\n    ...\n    [-5.58037877e-01]\n    [ 1.36901796e-01]\n    [ 1.05394018e+00]]\n\n   [[ 2.86511803e+00]\n    [-9.97671425e-01]\n    [-1.05503333e+00]\n    ...\n    [-4.39009935e-01]\n    [ 9.70918238e-01]\n    [ 8.55026305e-01]]\n\n   [[ 6.06067240e-01]\n    [ 1.43383980e-01]\n    [-4.22201604e-01]\n    ...\n    [ 7.51613779e-03]\n    [ 1.81066632e-01]\n    [-1.96033508e-01]]\n\n   ...\n\n   [[-1.49938539e-01]\n    [-1.37948167e+00]\n    [ 5.10941565e-01]\n    ...\n    [-1.98431444e+00]\n    [-1.60705119e-01]\n    [-4.74432319e-01]]\n\n   [[-7.57836699e-02]\n    [-5.21043718e-01]\n    [-6.54276311e-01]\n    ...\n    [ 1.42272174e+00]\n    [ 6.71523333e-01]\n    [-3.32456321e-01]]\n\n   [[-2.22225142e+00]\n    [ 1.58629403e-01]\n    [-9.47776020e-01]\n    ...\n    [-5.76255210e-02]\n    [ 8.66665244e-02]\n    [ 5.61581135e-01]]]\n\n\n  [[[ 1.74793616e-01]\n    [-1.98508096e+00]\n    [-6.03045344e-01]\n    ...\n    [-4.68740821e-01]\n    [-1.80450034e+00]\n    [-1.08483601e+00]]\n\n   [[ 2.03818440e-01]\n    [-1.51505315e+00]\n    [-1.21582747e+00]\n    ...\n    [ 4.93956432e-02]\n    [ 4.99759644e-01]\n    [-1.07636809e+00]]\n\n   [[ 1.03267598e+00]\n    [ 9.41050947e-02]\n    [-4.95876223e-01]\n    ...\n    [-1.33602405e+00]\n    [-1.79728597e-01]\n    [-1.10510683e+00]]\n\n   ...\n\n   [[ 1.93991989e-01]\n    [ 8.89384389e-01]\n    [-1.68182385e+00]\n    ...\n    [-4.59178746e-01]\n    [-6.82671905e-01]\n    [-3.04221302e-01]]\n\n   [[-1.68800938e+00]\n    [ 7.32148672e-03]\n    [ 1.97563970e+00]\n    ...\n    [ 1.08994603e+00]\n    [ 2.38042161e-01]\n    [ 8.60547423e-01]]\n\n   [[-2.15127334e-01]\n    [ 2.72997439e-01]\n    [-5.95458508e-01]\n    ...\n    [-1.52140215e-01]\n    [ 9.22345817e-01]\n    [ 1.59411120e+00]]]\n\n\n  [[[ 5.12104094e-01]\n    [ 6.33046985e-01]\n    [-7.12737679e-01]\n    ...\n    [-4.47780937e-01]\n    [ 4.90467340e-01]\n    [ 4.16295886e-01]]\n\n   [[ 1.55732465e+00]\n    [-3.57530922e-01]\n    [-2.47247949e-01]\n    ...\n    [-3.96525472e-01]\n    [-1.81382978e+00]\n    [-2.02308702e+00]]\n\n   [[-5.24615869e-02]\n    [ 7.86907673e-02]\n    [ 3.15554366e-02]\n    ...\n    [ 7.35993266e-01]\n    [-2.33532622e-01]\n    [ 1.71079680e-01]]\n\n   ...\n\n   [[ 1.34098363e+00]\n    [ 9.59308505e-01]\n    [-2.06376910e+00]\n    ...\n    [ 1.74059823e-01]\n    [ 4.02981758e-01]\n    [-2.45235190e-01]]\n\n   [[ 8.05062890e-01]\n    [ 4.17174399e-02]\n    [-1.51840234e-02]\n    ...\n    [ 7.12367713e-01]\n    [ 3.33992302e-01]\n    [ 1.44796598e+00]]\n\n   [[-2.28300784e-02]\n    [-9.41868842e-01]\n    [-1.60995686e+00]\n    ...\n    [-6.60396516e-01]\n    [-7.99473882e-01]\n    [ 5.96462965e-01]]]]]"
          ]
        }
      ]
    },
    {
      "cell_type": "code",
      "source": [
        "from tensorflow.keras.optimizers import Adam"
      ],
      "metadata": {
        "id": "GUCUTvazJYk_"
      },
      "execution_count": 79,
      "outputs": []
    }
  ]
}